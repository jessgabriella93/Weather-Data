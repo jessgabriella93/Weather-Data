{
 "cells": [
  {
   "cell_type": "code",
   "execution_count": 1,
   "id": "91f42c4e-c52b-44bc-84cc-c94c2f45dff3",
   "metadata": {},
   "outputs": [],
   "source": [
    "import pandas as pd"
   ]
  },
  {
   "cell_type": "code",
   "execution_count": 2,
   "id": "ce94b310-c2e4-4b11-8834-69b60efe2c41",
   "metadata": {},
   "outputs": [],
   "source": [
    "import numpy as np"
   ]
  },
  {
   "cell_type": "code",
   "execution_count": 4,
   "id": "b5c959fa-05e7-4d3d-8a3e-7f53aa0aa65a",
   "metadata": {},
   "outputs": [],
   "source": [
    "weather_data = np.array([\n",
    "[\"2023-07-01\", 30, 60, 0.1],\n",
    "[\"2023-07-02\", 31, 62, 0.2],\n",
    "[\"2023-07-03\", 29, 65, 0.0],\n",
    "[\"2023-07-04\", 33, 68, 0.5],\n",
    "[\"2023-07-05\", 34, 70, 0.3],\n",
    "[\"2023-07-06\", 32, 63, 0.1],\n",
    "[\"2023-07-07\", 30, 61, 0.0],\n",
    "])"
   ]
  },
  {
   "cell_type": "code",
   "execution_count": 14,
   "id": "4ec68812-73fa-4b52-953c-30aaccf06ad6",
   "metadata": {},
   "outputs": [],
   "source": [
    "weather = weather_data[0:, 1].astype(float)"
   ]
  },
  {
   "cell_type": "code",
   "execution_count": 17,
   "id": "2a3d68eb-f62b-4ac2-8c63-890de4b50ad7",
   "metadata": {},
   "outputs": [
    {
     "name": "stdout",
     "output_type": "stream",
     "text": [
      "31.285714285714285\n"
     ]
    }
   ],
   "source": [
    "#Average temperature\n",
    "average_weather=np.mean(weather)\n",
    "print(average_weather)"
   ]
  },
  {
   "cell_type": "code",
   "execution_count": 26,
   "id": "d98d6948-2e8b-4953-8c2f-24a2a8922ea7",
   "metadata": {},
   "outputs": [
    {
     "name": "stdout",
     "output_type": "stream",
     "text": [
      "34.0\n",
      "4\n",
      "2023-07-05\n"
     ]
    }
   ],
   "source": [
    "#Day with the highest temperature during the week\n",
    "max_temp=np.max(weather)\n",
    "print(max_temp)\n",
    "max_temp_index=np.argmax(weather)\n",
    "print(max_temp_index)\n",
    "highest_temp_day=weather_data[max_temp_index,0]\n",
    "print(highest_temp_day)"
   ]
  },
  {
   "cell_type": "code",
   "execution_count": 30,
   "id": "d5ae8c64-1c92-4b35-9b35-ad2ca085df6c",
   "metadata": {},
   "outputs": [
    {
     "name": "stdout",
     "output_type": "stream",
     "text": [
      "[ 1. -2.  4.  1. -2. -2.]\n",
      "Daily Fluctuations of Temperature: [ 1. -2.  4.  1. -2. -2.]\n"
     ]
    }
   ],
   "source": [
    "#Fluctuations in daily temperature\n",
    "fluct = np.diff(weather)\n",
    "print(fluct)\n",
    "print('Daily Fluctuations of Temperature:', fluct)"
   ]
  },
  {
   "cell_type": "code",
   "execution_count": 112,
   "id": "0506854c-559c-415b-a0ac-5990ecceece9",
   "metadata": {},
   "outputs": [
    {
     "name": "stdout",
     "output_type": "stream",
     "text": [
      "[0.1 0.2 0.  0.5 0.3 0.1 0. ]\n",
      "[False False False  True  True False False]\n",
      "['2023-07-04' '2023-07-05']\n"
     ]
    }
   ],
   "source": [
    "#Days with high precipitation\n",
    "precipitation = weather_data[0:, 3].astype(float)\n",
    "print(precipitation)\n",
    "high_precipitation = precipitation > 0.2\n",
    "print(high_precipitation)\n",
    "days_high_precipitation = weather_data[high_precipitation]\n",
    "print(days_high_precipitation[0:,0])"
   ]
  },
  {
   "cell_type": "code",
   "execution_count": 58,
   "id": "85571cc7-ee6c-4a1b-a6e0-d229e68685ac",
   "metadata": {},
   "outputs": [
    {
     "name": "stdout",
     "output_type": "stream",
     "text": [
      "[68. 70.]\n",
      "The average humidity for days with high precipitation is 69.0\n"
     ]
    }
   ],
   "source": [
    "#Average humidity days with high precipitation\n",
    "humidity_high_prec = days_high_precipitation[0:,2].astype(float)\n",
    "print(humidity_high_prec)\n",
    "humidity_high_prec.mean()\n",
    "print('The average humidity for days with high precipitation is', humidity_high_prec.mean())"
   ]
  },
  {
   "cell_type": "code",
   "execution_count": 66,
   "id": "e1cba36b-6d2e-44e8-8867-6af2ccfa547c",
   "metadata": {},
   "outputs": [
    {
     "name": "stdout",
     "output_type": "stream",
     "text": [
      "Total precipitation for the whole week is: 1.2000000000000002\n"
     ]
    }
   ],
   "source": [
    "#Total precipitation\n",
    "precipitation = weather_data[0:, 3].astype(float)\n",
    "total_precipitation = precipitation.sum()\n",
    "print('Total precipitation for the whole week is:', total_precipitation)"
   ]
  },
  {
   "cell_type": "code",
   "execution_count": 76,
   "id": "eb76f268-f5ea-4e34-9002-510b72ee1180",
   "metadata": {},
   "outputs": [
    {
     "name": "stdout",
     "output_type": "stream",
     "text": [
      "The day with the lowest temperature is 2023-07-03\n"
     ]
    }
   ],
   "source": [
    "#Day with the lowest temperature\n",
    "min_temp_index = np.argmin(weather)\n",
    "day_lowest_temp = weather_data[min_temp_index,0]\n",
    "print('The day with the lowest temperature is', day_lowest_temp)"
   ]
  },
  {
   "cell_type": "code",
   "execution_count": 84,
   "id": "954ae6d2-51d2-45bf-bbee-6f983fd995b7",
   "metadata": {},
   "outputs": [
    {
     "name": "stdout",
     "output_type": "stream",
     "text": [
      "The days with hot weather are: ['2023-07-02' '2023-07-04' '2023-07-05' '2023-07-06']\n"
     ]
    }
   ],
   "source": [
    "#Days with hot weather\n",
    "hot = weather > 30\n",
    "hot_data = weather_data[hot]\n",
    "hot_data[0:,0]\n",
    "print('The days with hot weather are:', hot_data[0:,0])"
   ]
  },
  {
   "cell_type": "code",
   "execution_count": 95,
   "id": "f383ba25-8cfc-43de-adc2-019c307c8eb7",
   "metadata": {},
   "outputs": [
    {
     "name": "stdout",
     "output_type": "stream",
     "text": [
      "The average temperature for summer days is: 32.5\n"
     ]
    }
   ],
   "source": [
    "#Average temperature for summer days\n",
    "summer_temperature = hot_data[0:,1].astype(float)\n",
    "print('The average temperature for summer days is:',summer_temperature.mean())"
   ]
  },
  {
   "cell_type": "code",
   "execution_count": 119,
   "id": "dae7e882-3013-4b3b-bea8-92bb0a78d2e7",
   "metadata": {},
   "outputs": [
    {
     "name": "stdout",
     "output_type": "stream",
     "text": [
      "The number of days with no precipitation is 2\n"
     ]
    }
   ],
   "source": [
    "#Count number of days with no precipitation\n",
    "days_with_prec = np.sum(precipitation == 0)\n",
    "print('The number of days with no precipitation is', days_with_prec)\n"
   ]
  },
  {
   "cell_type": "markdown",
   "id": "c834eba2-cae9-4034-8fe6-3dc28a8fec6f",
   "metadata": {},
   "source": [
    "Comprehensive Weather Report\n",
    "\n",
    "The average temperature from July 1st, 2023 - July 7th, 2023 is 31.285714285714285.\n",
    "The highest temperature during the week is 34 Celcius on July 5th, 2023.\n",
    "2 days have precipitation over 0.2 on July 4th, 2023 and July 5th, 2023.\n",
    "The average humidity for days with high precipitation is 69.0.\n",
    "Total precipitation for the whole week is: 1.2000000000000002.\n",
    "The day with the lowest temperature is 2023-07-03.\n",
    "The days with hot weather over 30 Celcius are July 2nd, July 4th, July 5th, and July 6th.\n",
    "The average temperature for summer days is 32.5 Celcius.\n",
    "There are 2 days with no precipitation.\n",
    "The daily weather fluctuations are shown below:"
   ]
  },
  {
   "cell_type": "code",
   "execution_count": 134,
   "id": "9a210e26-1257-459d-9a17-484e8b81d32f",
   "metadata": {},
   "outputs": [
    {
     "data": {
      "image/png": "[encoded data removed]",
      "text/plain": [
       "<Figure size 640x480 with 1 Axes>"
      ]
     },
     "metadata": {},
     "output_type": "display_data"
    }
   ],
   "source": [
    "import matplotlib.pyplot as plt\n",
    "dates = weather_data[0:,0]\n",
    "weather = weather_data[0:,1].astype(float)\n",
    "plt.plot(dates, weather)\n",
    "plt.xlabel('Dates')\n",
    "plt.xticks(rotation=90)\n",
    "plt.ylabel('Weather in Celcius')\n",
    "plt.title('Daily Weather Fluctuations')\n",
    "plt.show()"
   ]
  },
  {
   "cell_type": "code",
   "execution_count": null,
   "id": "996564fe-0c44-4704-9840-90ba55f87160",
   "metadata": {},
   "outputs": [],
   "source": []
  }
 ],
 "metadata": {
  "kernelspec": {
   "display_name": "Python [conda env:base] *",
   "language": "python",
   "name": "conda-base-py"
  },
  "language_info": {
   "codemirror_mode": {
    "name": "ipython",
    "version": 3
   },
   "file_extension": ".py",
   "mimetype": "text/x-python",
   "name": "python",
   "nbconvert_exporter": "python",
   "pygments_lexer": "ipython3",
   "version": "3.12.7"
  }
 },
 "nbformat": 4,
 "nbformat_minor": 5
}
